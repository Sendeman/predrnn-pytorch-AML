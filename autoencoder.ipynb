{
 "cells": [
  {
   "cell_type": "markdown",
   "id": "ed41c95f",
   "metadata": {},
   "source": [
    "## Imports"
   ]
  },
  {
   "cell_type": "code",
   "execution_count": 1,
   "id": "c39305d2",
   "metadata": {},
   "outputs": [
    {
     "name": "stdout",
     "output_type": "stream",
     "text": [
      "Torch device: cuda\n"
     ]
    }
   ],
   "source": [
    "# PyTorch imports\n",
    "import torch\n",
    "import torch.nn as nn\n",
    "import torch.nn.functional as F\n",
    "from torch.utils.data import DataLoader, WeightedRandomSampler, Dataset\n",
    "from torchvision import transforms\n",
    "device = torch.device(\"cuda\" if torch.cuda.is_available() else \"cpu\")\n",
    "print(\"Torch device:\", device) # Quick check to see if we're using GPU or CPU.\n",
    "\n",
    "\n",
    "from sklearn.model_selection import train_test_split\n",
    "import numpy as np\n",
    "import pandas as pd\n",
    "from pathlib import Path\n",
    "\n",
    "# Personal imports\n",
    "import dataset.download_and_preprocess as dl\n",
    "from dataset.dataloader import KTHDataset\n",
    "from autoencoder.autoencoder import AutoencoderModel\n"
   ]
  },
  {
   "cell_type": "markdown",
   "id": "4b8daa57",
   "metadata": {},
   "source": [
    "## Download the dataset and pre-process the dataset"
   ]
  },
  {
   "cell_type": "code",
   "execution_count": 2,
   "id": "643c9b97",
   "metadata": {},
   "outputs": [],
   "source": [
    "action_space = ['walking', 'running', 'jogging', 'boxing', 'handwaving', 'handclapping']\n",
    "for action in action_space:\n",
    "    should_extract = dl.download_and_extract(action, overwrite=False)\n",
    "    dl.extract_and_save_frames(action, extraction=should_extract)"
   ]
  },
  {
   "cell_type": "markdown",
   "id": "ca984620",
   "metadata": {},
   "source": [
    "## Split the data into train, test, validate"
   ]
  },
  {
   "cell_type": "code",
   "execution_count": 3,
   "id": "3938d481",
   "metadata": {},
   "outputs": [],
   "source": [
    "image_file_names = []\n",
    "labels = []\n",
    "\n",
    "# Create a list of all the image file names and their corresponding action labels\n",
    "for action in action_space:\n",
    "    folder = Path(\"dataset\") / \"KTH_data\" / action\n",
    "    for f in folder.glob(\"*.pt\"):\n",
    "        image_file_names.append(f)\n",
    "        labels.append(action)\n",
    "        \n",
    "paths = np.array(image_file_names)\n",
    "labels = np.array(labels)"
   ]
  },
  {
   "cell_type": "code",
   "execution_count": 4,
   "id": "5daad99d",
   "metadata": {},
   "outputs": [],
   "source": [
    "# Split the dataset into training, validation, and test sets\n",
    "# 70% training, 15% validation, 15% test\n",
    "X_train, X_temp, y_train, y_temp = train_test_split(\n",
    "    paths, labels, \n",
    "    stratify=labels, \n",
    "    test_size=0.3, \n",
    "    random_state=42\n",
    ")\n",
    "# Split the temporary set into validation and test sets\n",
    "# 50% of the temporary set for validation and 50% for testing (again, 15% each overall)\n",
    "X_val, X_test, y_val, y_test = train_test_split(\n",
    "    X_temp, y_temp, \n",
    "    stratify=y_temp, \n",
    "    test_size=0.5, \n",
    "    random_state=42\n",
    ")\n",
    "\n",
    "\n",
    "# Data augmentation for training\n",
    "train_transform = transforms.Compose([\n",
    "    transforms.Lambda(lambda x: torch.from_numpy(x) if isinstance(x, np.ndarray) else x),\n",
    "    transforms.RandomHorizontalFlip(p=0.5),\n",
    "    transforms.RandomVerticalFlip(p=0.5)\n",
    "])\n",
    "\n",
    "val_test_transform = transforms.Compose([\n",
    "    transforms.Lambda(lambda x: torch.from_numpy(x) if isinstance(x, np.ndarray) else x)\n",
    "])\n",
    "\n",
    "\n",
    "train_dataset = KTHDataset(X_train, y_train, transform=train_transform)\n",
    "val_dataset = KTHDataset(X_val, y_val, transform=val_test_transform)\n",
    "test_dataset = KTHDataset(X_test, y_test, transform=val_test_transform)\n",
    "\n",
    "# Create sample weights based on training label frequency\n",
    "\n",
    "# Map class names to integer indices\n",
    "class_to_idx = {cls_name: idx for idx, cls_name in enumerate(action_space)}\n",
    "y_train_indices = np.array([class_to_idx[label] for label in y_train])\n",
    "\n",
    "class_sample_count = np.bincount(y_train_indices)\n",
    "class_weights = 1. / class_sample_count\n",
    "sample_weights = class_weights[y_train_indices]\n",
    "sampler = WeightedRandomSampler(sample_weights, len(sample_weights), replacement=True)"
   ]
  },
  {
   "cell_type": "code",
   "execution_count": 5,
   "id": "f3ba1037",
   "metadata": {},
   "outputs": [],
   "source": [
    "# Dataloaders\n",
    "train_loader = DataLoader(train_dataset, batch_size=32, sampler=sampler)\n",
    "val_loader = DataLoader(val_dataset, batch_size=32, shuffle=False)\n",
    "test_loader = DataLoader(test_dataset, batch_size=32, shuffle=False)"
   ]
  },
  {
   "cell_type": "code",
   "execution_count": 6,
   "id": "d686c591",
   "metadata": {},
   "outputs": [
    {
     "name": "stdout",
     "output_type": "stream",
     "text": [
      "torch.Size([32, 120, 160])\n",
      "prior: torch.Size([32, 1, 120, 160])\n",
      "encoded: torch.Size([32, 128, 15, 20])\n",
      "latent: torch.Size([32, 100])\n",
      "reconstructed: torch.Size([32, 1, 120, 160])\n"
     ]
    }
   ],
   "source": [
    "test = AutoencoderModel(latent_dim = 100).to(device)\n",
    "\n",
    "# test training for loop:\n",
    "for i, (images, labels) in enumerate(train_loader):\n",
    "    image = images.unsqueeze(1)  # Remove the channel dimension\n",
    "    print(images.shape)\n",
    "    \n",
    "    image = image.to(device)\n",
    "    test.forward(image)\n",
    "    break  # Just to test the first batch\n"
   ]
  },
  {
   "cell_type": "markdown",
   "id": "35270c99",
   "metadata": {},
   "source": [
    "## TODO\n",
    "1. AutoEncoder training\n"
   ]
  },
  {
   "cell_type": "markdown",
   "id": "91e5517c",
   "metadata": {},
   "source": []
  }
 ],
 "metadata": {
  "kernelspec": {
   "display_name": "uni",
   "language": "python",
   "name": "python3"
  },
  "language_info": {
   "codemirror_mode": {
    "name": "ipython",
    "version": 3
   },
   "file_extension": ".py",
   "mimetype": "text/x-python",
   "name": "python",
   "nbconvert_exporter": "python",
   "pygments_lexer": "ipython3",
   "version": "3.13.2"
  }
 },
 "nbformat": 4,
 "nbformat_minor": 5
}
