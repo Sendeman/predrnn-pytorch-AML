{
 "cells": [
  {
   "cell_type": "markdown",
   "id": "ed41c95f",
   "metadata": {},
   "source": [
    "## Imports"
   ]
  },
  {
   "cell_type": "code",
   "execution_count": 1,
   "id": "c39305d2",
   "metadata": {},
   "outputs": [
    {
     "name": "stdout",
     "output_type": "stream",
     "text": [
      "Torch device: cuda\n"
     ]
    },
    {
     "name": "stderr",
     "output_type": "stream",
     "text": [
      "c:\\Users\\Paul\\Documents\\School\\Master\\AML\\predrnn-pytorch-AML\\dataset\\dataloader.py:32: SyntaxWarning: invalid escape sequence '\\K'\n",
      "  def __init__(self, root_dir: Path = Path(\"dataset\\KTH_data\"), transform=None):\n"
     ]
    }
   ],
   "source": [
    "# PyTorch imports\n",
    "import torch\n",
    "import torch.nn as nn\n",
    "import torch.nn.functional as F\n",
    "from torch.utils.data import DataLoader, WeightedRandomSampler, Dataset\n",
    "from torchvision import transforms\n",
    "device = torch.device(\"cuda\" if torch.cuda.is_available() else \"cpu\")\n",
    "print(\"Torch device:\", device) # Quick check to see if we're using GPU or CPU.\n",
    "\n",
    "\n",
    "from sklearn.model_selection import train_test_split\n",
    "import numpy as np\n",
    "import pandas as pd\n",
    "from pathlib import Path\n",
    "\n",
    "# Personal imports\n",
    "import dataset.download_and_preprocess as dl\n",
    "from dataset.dataloader import KTHDataset"
   ]
  },
  {
   "cell_type": "markdown",
   "id": "4b8daa57",
   "metadata": {},
   "source": [
    "## Download the dataset and pre-process the dataset"
   ]
  },
  {
   "cell_type": "code",
   "execution_count": null,
   "id": "643c9b97",
   "metadata": {},
   "outputs": [],
   "source": [
    "action_space = ['walking', 'running', 'jogging', 'boxing', 'handwaving', 'handclapping']\n",
    "for action in action_space:\n",
    "    dl.download_and_extract(action)\n",
    "    dl.extract_and_save_frames(action)\n"
   ]
  },
  {
   "cell_type": "markdown",
   "id": "ca984620",
   "metadata": {},
   "source": [
    "## Split the data into train, test, validate"
   ]
  },
  {
   "cell_type": "code",
   "execution_count": null,
   "id": "3938d481",
   "metadata": {},
   "outputs": [],
   "source": [
    "image_file_names = []\n",
    "labels = []\n",
    "\n",
    "# Create a list of all the image file names and their corresponding action labels\n",
    "for action in action_space:\n",
    "    folder = Path(\"dataset\") / \"KTH_data\" / action\n",
    "    for f in folder.glob(\"*.pt\"):\n",
    "        image_file_names.append(f)\n",
    "        labels.append(action)\n",
    "        \n",
    "paths = np.array(image_file_names)\n",
    "labels = np.array(labels)"
   ]
  },
  {
   "cell_type": "code",
   "execution_count": null,
   "id": "5daad99d",
   "metadata": {},
   "outputs": [],
   "source": [
    "# Split the dataset into training, validation, and test sets\n",
    "# 70% training, 15% validation, 15% test\n",
    "X_train, X_temp, y_train, y_temp = train_test_split(\n",
    "    paths, labels, \n",
    "    stratify=labels, \n",
    "    test_size=0.3, \n",
    "    random_state=42\n",
    ")\n",
    "# Split the temporary set into validation and test sets\n",
    "# 50% of the temporary set for validation and 50% for testing (again, 15% each overall)\n",
    "X_val, X_test, y_val, y_test = train_test_split(\n",
    "    X_temp, y_temp, \n",
    "    stratify=y_temp, \n",
    "    test_size=0.5, \n",
    "    random_state=42\n",
    ")\n",
    "\n",
    "\n",
    "# Data augmentation for training\n",
    "train_transform = transforms.Compose([\n",
    "    transforms.Lambda(lambda x: torch.from_numpy(x) if isinstance(x, np.ndarray) else x),\n",
    "    transforms.RandomHorizontalFlip(p=0.5),\n",
    "    transforms.RandomVerticalFlip(p=0.5)\n",
    "])\n",
    "\n",
    "val_test_transform = transforms.Compose([\n",
    "    transforms.Lambda(lambda x: torch.from_numpy(x) if isinstance(x, np.ndarray) else x)\n",
    "])\n",
    "\n",
    "\n",
    "train_dataset = KTHDataset(X_train, y_train, transform=train_transform)\n",
    "val_dataset = KTHDataset(X_val, y_val, transform=val_test_transform)\n",
    "test_dataset = KTHDataset(X_test, y_test, transform=val_test_transform)\n",
    "\n",
    "# Create sample weights based on training label frequency\n",
    "\n",
    "# Map class names to integer indices\n",
    "class_to_idx = {cls_name: idx for idx, cls_name in enumerate(action_space)}\n",
    "y_train_indices = np.array([class_to_idx[label] for label in y_train])\n",
    "\n",
    "class_sample_count = np.bincount(y_train_indices)\n",
    "class_weights = 1. / class_sample_count\n",
    "sample_weights = class_weights[y_train_indices]\n",
    "sampler = WeightedRandomSampler(sample_weights, len(sample_weights), replacement=True)"
   ]
  },
  {
   "cell_type": "code",
   "execution_count": null,
   "id": "f3ba1037",
   "metadata": {},
   "outputs": [
    {
     "name": "stdout",
     "output_type": "stream",
     "text": [
      "Batch 1:\n",
      "Images shape: torch.Size([32, 120, 160])\n",
      "tensor([[[0.4824, 0.4510, 0.4745,  ..., 0.4902, 0.4784, 0.5059],\n",
      "         [0.4745, 0.5059, 0.4941,  ..., 0.4549, 0.5098, 0.4941],\n",
      "         [0.4824, 0.4667, 0.4824,  ..., 0.5294, 0.5294, 0.5216],\n",
      "         ...,\n",
      "         [0.6275, 0.5882, 0.6314,  ..., 0.6275, 0.5843, 0.6118],\n",
      "         [0.6196, 0.6314, 0.6118,  ..., 0.6392, 0.6196, 0.6039],\n",
      "         [0.6745, 0.7294, 0.7098,  ..., 0.7882, 0.7686, 0.7647]],\n",
      "\n",
      "        [[0.3451, 0.3961, 0.3686,  ..., 0.3725, 0.3804, 0.4353],\n",
      "         [0.3765, 0.4235, 0.3569,  ..., 0.3804, 0.3922, 0.3922],\n",
      "         [0.3725, 0.3725, 0.3725,  ..., 0.3725, 0.4000, 0.3804],\n",
      "         ...,\n",
      "         [1.0000, 0.7961, 0.9451,  ..., 0.6196, 0.6392, 0.6510],\n",
      "         [0.9882, 0.8549, 0.9882,  ..., 0.9059, 0.9647, 0.9373],\n",
      "         [0.9882, 0.9608, 0.9882,  ..., 1.0000, 1.0000, 0.9882]],\n",
      "\n",
      "        [[0.4275, 0.4353, 0.4078,  ..., 0.3961, 0.4314, 0.4000],\n",
      "         [0.4392, 0.4510, 0.3529,  ..., 0.3725, 0.3843, 0.4235],\n",
      "         [0.3961, 0.4078, 0.4000,  ..., 0.3647, 0.4039, 0.3725],\n",
      "         ...,\n",
      "         [0.5098, 0.5412, 0.5569,  ..., 0.5294, 0.5020, 0.5059],\n",
      "         [0.5059, 0.5098, 0.5373,  ..., 0.5137, 0.5098, 0.5098],\n",
      "         [0.6667, 0.6824, 0.6157,  ..., 0.6118, 0.6039, 0.6275]],\n",
      "\n",
      "        ...,\n",
      "\n",
      "        [[0.3922, 0.4000, 0.4078,  ..., 0.5216, 0.5137, 0.5020],\n",
      "         [0.3490, 0.3490, 0.3647,  ..., 0.4941, 0.4902, 0.4824],\n",
      "         [0.3490, 0.3529, 0.3686,  ..., 0.5059, 0.5020, 0.4863],\n",
      "         ...,\n",
      "         [0.3333, 0.3451, 0.3451,  ..., 0.5098, 0.4902, 0.4784],\n",
      "         [0.3373, 0.3490, 0.3451,  ..., 0.5294, 0.5216, 0.4902],\n",
      "         [0.3255, 0.3333, 0.3137,  ..., 0.5451, 0.5216, 0.5176]],\n",
      "\n",
      "        [[0.4510, 0.4353, 0.4824,  ..., 0.4588, 0.4549, 0.4588],\n",
      "         [0.4745, 0.4784, 0.4588,  ..., 0.4824, 0.4588, 0.4510],\n",
      "         [0.4824, 0.4392, 0.4863,  ..., 0.4667, 0.4902, 0.4745],\n",
      "         ...,\n",
      "         [0.5725, 0.5922, 0.5922,  ..., 0.5647, 0.5608, 0.5647],\n",
      "         [0.5961, 0.5961, 0.5922,  ..., 0.5686, 0.5843, 0.5882],\n",
      "         [0.7020, 0.6980, 0.7020,  ..., 0.6745, 0.6784, 0.6902]],\n",
      "\n",
      "        [[0.8980, 0.8980, 0.9098,  ..., 0.9490, 0.9373, 0.9255],\n",
      "         [0.7922, 0.8078, 0.8157,  ..., 0.8667, 0.8431, 0.8392],\n",
      "         [0.8118, 0.8000, 0.8157,  ..., 0.8745, 0.8471, 0.8353],\n",
      "         ...,\n",
      "         [0.7255, 0.7529, 0.7294,  ..., 0.7451, 0.7373, 0.7176],\n",
      "         [0.6824, 0.6902, 0.6902,  ..., 0.7647, 0.7333, 0.7725],\n",
      "         [0.6824, 0.6824, 0.7333,  ..., 0.7412, 0.7333, 0.7059]]])\n"
     ]
    }
   ],
   "source": [
    "# Dataloaders\n",
    "train_loader = DataLoader(train_dataset, batch_size=32, sampler=sampler)\n",
    "val_loader = DataLoader(val_dataset, batch_size=32, shuffle=False)\n",
    "test_loader = DataLoader(test_dataset, batch_size=32, shuffle=False)\n",
    "\n",
    "# test training for loop:\n",
    "for i, (images, labels) in enumerate(train_loader):\n",
    "    print(f\"Batch {i+1}:\")\n",
    "    print(\"Images shape:\", images.shape)\n",
    "    print(images)\n",
    "    break  # Just to test the first batch"
   ]
  },
  {
   "cell_type": "markdown",
   "id": "35270c99",
   "metadata": {},
   "source": [
    "## TODO\n",
    "1. Dataset is too large, need to break it up in bits.\n",
    "2. AutoEncoder training\n"
   ]
  }
 ],
 "metadata": {
  "kernelspec": {
   "display_name": "uni",
   "language": "python",
   "name": "python3"
  },
  "language_info": {
   "codemirror_mode": {
    "name": "ipython",
    "version": 3
   },
   "file_extension": ".py",
   "mimetype": "text/x-python",
   "name": "python",
   "nbconvert_exporter": "python",
   "pygments_lexer": "ipython3",
   "version": "3.13.2"
  }
 },
 "nbformat": 4,
 "nbformat_minor": 5
}
