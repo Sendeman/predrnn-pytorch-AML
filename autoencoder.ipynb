{
 "cells": [
  {
   "cell_type": "markdown",
   "id": "ed41c95f",
   "metadata": {},
   "source": [
    "## Imports"
   ]
  },
  {
   "cell_type": "code",
   "execution_count": 3,
   "id": "c39305d2",
   "metadata": {},
   "outputs": [
    {
     "name": "stdout",
     "output_type": "stream",
     "text": [
      "Torch device: cuda\n"
     ]
    }
   ],
   "source": [
    "# PyTorch imports\n",
    "import torch\n",
    "import torch.nn as nn\n",
    "import torch.nn.functional as F\n",
    "from torch.utils.data import DataLoader, WeightedRandomSampler, Dataset\n",
    "from torchvision import transforms\n",
    "device = torch.device(\"cuda\" if torch.cuda.is_available() else \"cpu\")\n",
    "print(\"Torch device:\", device) # Quick check to see if we're using GPU or CPU.\n",
    "\n",
    "\n",
    "from sklearn.model_selection import train_test_split\n",
    "import numpy as np\n",
    "import pandas as pd\n",
    "\n",
    "# Personal imports\n",
    "import dataset.download_and_preprocess as dl"
   ]
  },
  {
   "cell_type": "markdown",
   "id": "4b8daa57",
   "metadata": {},
   "source": [
    "## Download the dataset and pre-process the dataset"
   ]
  },
  {
   "cell_type": "code",
   "execution_count": 4,
   "id": "643c9b97",
   "metadata": {},
   "outputs": [],
   "source": [
    "action_space = ['walking', 'running', 'jogging', 'boxing', 'handwaving', 'handclapping']\n",
    "for action in action_space:\n",
    "    dl.download_and_extract(action)\n",
    "    dl.extract_and_save_frames(action)\n"
   ]
  },
  {
   "cell_type": "markdown",
   "id": "ca984620",
   "metadata": {},
   "source": [
    "## Split the data into train, test, validate"
   ]
  },
  {
   "cell_type": "code",
   "execution_count": 8,
   "id": "3938d481",
   "metadata": {},
   "outputs": [],
   "source": [
    "class ActionDataset(Dataset):\n",
    "    def __init__(self, images, labels, transform=None):\n",
    "        self.images = images\n",
    "        self.labels = labels\n",
    "        self.transform = transform\n",
    "\n",
    "    def __len__(self):\n",
    "        return len(self.images)\n",
    "\n",
    "    def __getitem__(self, idx):\n",
    "        image = self.images[idx]\n",
    "        label = self.labels[idx]\n",
    "        \n",
    "        # Convert to tensor if needed\n",
    "        image = torch.tensor(image, dtype=torch.float32)\n",
    "        label = torch.tensor(label, dtype=torch.long)\n",
    "\n",
    "        if self.transform:\n",
    "            image = self.transform(image)\n",
    "\n",
    "        return image, label"
   ]
  },
  {
   "cell_type": "code",
   "execution_count": 9,
   "id": "5daad99d",
   "metadata": {},
   "outputs": [],
   "source": [
    "images = np.array(all_frames)\n",
    "labels = np.array(all_actions)   \n",
    "\n",
    "X_train, X_temp, y_train, y_temp = train_test_split(\n",
    "    images, labels, \n",
    "    stratify=labels, \n",
    "    test_size=0.3, \n",
    "    random_state=42\n",
    ")\n",
    "\n",
    "X_val, X_test, y_val, y_test = train_test_split(\n",
    "    X_temp, y_temp, \n",
    "    stratify=y_temp, \n",
    "    test_size=0.5, \n",
    "    random_state=42\n",
    ")\n",
    "\n",
    "\n",
    "# Data augmentation for training\n",
    "train_transform = transforms.Compose([\n",
    "    transforms.ToTensor(),\n",
    "    transforms.RandomHorizontalFlip(p=0.5),  # 50% chance to flip horizontally\n",
    "    transforms.RandomVerticalFlip(p=0.5),    # 50% chance to flip vertically\n",
    "    # Add any normalization here if needed\n",
    "])\n",
    "\n",
    "\n",
    "val_test_transform = transforms.Compose([\n",
    "    transforms.ToTensor()\n",
    "])\n",
    "\n",
    "\n",
    "train_dataset = ActionDataset(X_train, y_train, transform=train_transform)\n",
    "val_dataset = ActionDataset(X_val, y_val, transform=val_test_transform)\n",
    "test_dataset = ActionDataset(X_test, y_test, transform=val_test_transform)\n",
    "\n",
    "# Create sample weights based on training label frequency\n",
    "class_sample_count = np.bincount(y_train)\n",
    "class_weights = 1. / class_sample_count\n",
    "sample_weights = class_weights[y_train]\n",
    "sampler = WeightedRandomSampler(sample_weights, len(sample_weights), replacement=True)\n",
    "\n",
    "# Dataloaders\n",
    "train_loader = DataLoader(train_dataset, batch_size=32, sampler=sampler)\n",
    "val_loader = DataLoader(val_dataset, batch_size=32, shuffle=False)\n",
    "test_loader = DataLoader(test_dataset, batch_size=32, shuffle=False)"
   ]
  },
  {
   "cell_type": "markdown",
   "id": "35270c99",
   "metadata": {},
   "source": [
    "## TODO\n",
    "1. Dataset is too large, need to break it up in bits.\n",
    "2. AutoEncoder training\n"
   ]
  }
 ],
 "metadata": {
  "kernelspec": {
   "display_name": "uni",
   "language": "python",
   "name": "python3"
  },
  "language_info": {
   "codemirror_mode": {
    "name": "ipython",
    "version": 3
   },
   "file_extension": ".py",
   "mimetype": "text/x-python",
   "name": "python",
   "nbconvert_exporter": "python",
   "pygments_lexer": "ipython3",
   "version": "3.13.2"
  }
 },
 "nbformat": 4,
 "nbformat_minor": 5
}
