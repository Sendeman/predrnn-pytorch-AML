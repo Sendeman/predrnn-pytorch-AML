{
 "cells": [
  {
   "cell_type": "markdown",
   "id": "ed41c95f",
   "metadata": {},
   "source": [
    "## Imports"
   ]
  },
  {
   "cell_type": "code",
   "execution_count": 1,
   "id": "c39305d2",
   "metadata": {},
   "outputs": [],
   "source": [
    "import torch\n",
    "import torch.nn as nn\n",
    "import torch.nn.functional as F\n",
    "from torch.utils.data import DataLoader, WeightedRandomSampler, Dataset\n",
    "\n",
    "from sklearn.model_selection import train_test_split\n",
    "import numpy as np\n",
    "import pandas as pd\n",
    "import cv2\n",
    "import os"
   ]
  },
  {
   "cell_type": "markdown",
   "id": "4b8daa57",
   "metadata": {},
   "source": [
    "## Load the dataset"
   ]
  },
  {
   "cell_type": "code",
   "execution_count": null,
   "id": "643c9b97",
   "metadata": {},
   "outputs": [
    {
     "name": "stdout",
     "output_type": "stream",
     "text": [
      "loaded walking                \n",
      "loaded running                \n",
      "loaded jogging                \n",
      "loaded boxing                 \n",
      "loaded handwaving             \n",
      "loaded handclapping           \n"
     ]
    }
   ],
   "source": [
    "action_space = ['walking', 'running', 'jogging', 'boxing', 'handwaving', 'handclapping']\n",
    "root_folder = \".\\\\dataset\\\\\"\n",
    "\n",
    "frames_dictionary = {}\n",
    "\n",
    "for action in action_space:\n",
    "    folder = os.path.join(root_folder, action)\n",
    "    file_num = 0\n",
    "\n",
    "    frames = []\n",
    "    frames_dictionary[action] = frames\n",
    "    for filename in os.listdir(folder):\n",
    "        size = len(os.listdir(folder))\n",
    "        file_num += 1\n",
    "        print(f\"loading {action} [{file_num:03}/{size:03}]\", end=\"\\r\")\n",
    "        file_path = os.path.join(folder, filename)\n",
    "        if os.path.isfile(file_path):\n",
    "            cap = cv2.VideoCapture(file_path)\n",
    "            while True:\n",
    "                ret, frame = cap.read()\n",
    "                if not ret:\n",
    "                    break\n",
    "                # The images are grayscale, so we can omit 2 of the 3 RGB channels.\n",
    "                frame = frame[:, :, 0]/255.0 # Normalize to [0, 1]\n",
    "\n",
    "                # Append original frame\n",
    "                frames.append(frame)\n",
    "                # Append horizontally flipped frame\n",
    "                frames.append(np.fliplr(frame))\n",
    "                # Append vertically flipped frame\n",
    "                frames.append(np.flipud(frame))\n",
    "            \n",
    "            cap.release()\n",
    "        frames_dictionary[action] = np.array(frames)\n",
    "    print(f\"loaded {action:23}\")"
   ]
  },
  {
   "cell_type": "markdown",
   "id": "2dbdb713",
   "metadata": {},
   "source": [
    "# A brief overview of our gathered data\n",
    "We can see that the data is of shape (frames, height, width)"
   ]
  },
  {
   "cell_type": "code",
   "execution_count": 14,
   "id": "2147a9d2",
   "metadata": {},
   "outputs": [
    {
     "name": "stdout",
     "output_type": "stream",
     "text": [
      "walking: \t(3690, 120, 160)\n",
      "running: \t(2100, 120, 160)\n",
      "jogging: \t(2520, 120, 160)\n",
      "boxing:  \t(2250, 120, 160)\n",
      "handwaving:\t(3372, 120, 160)\n",
      "handclapping:\t(2784, 120, 160)\n"
     ]
    }
   ],
   "source": [
    "for action in action_space:\n",
    "    print(f\"{action+\":\":9}\\t{frames_dictionary[action].shape}\")\n"
   ]
  },
  {
   "cell_type": "markdown",
   "id": "ca984620",
   "metadata": {},
   "source": [
    "## Split the data into train, test, validate"
   ]
  },
  {
   "cell_type": "code",
   "execution_count": null,
   "id": "3938d481",
   "metadata": {},
   "outputs": [],
   "source": [
    "class ActionDataset(Dataset):\n",
    "    def __init__(self, images, labels, transform=None):\n",
    "        self.images = images\n",
    "        self.labels = labels\n",
    "        self.transform = transform\n",
    "\n",
    "    def __len__(self):\n",
    "        return len(self.images)\n",
    "\n",
    "    def __getitem__(self, idx):\n",
    "        image = self.images[idx]\n",
    "        label = self.labels[idx]\n",
    "        \n",
    "        # Convert to tensor if needed\n",
    "        image = torch.tensor(image, dtype=torch.float32)\n",
    "        label = torch.tensor(label, dtype=torch.long)\n",
    "\n",
    "        if self.transform:\n",
    "            image = self.transform(image)\n",
    "\n",
    "        return image, label\n"
   ]
  },
  {
   "cell_type": "code",
   "execution_count": null,
   "id": "5daad99d",
   "metadata": {},
   "outputs": [],
   "source": [
    "all_frames = []\n",
    "all_actions = []\n",
    "\n",
    "for counter, (action, frames) in enumerate(frames_dictionary.items()):\n",
    "    all_frames.extend(frames)\n",
    "    all_actions.extend([counter] * len(frames))\n",
    "    \n",
    "images = np.array(all_frames)\n",
    "labels = np.array(all_actions)   \n",
    "\n",
    "X_train, X_temp, y_train, y_temp = train_test_split(\n",
    "    images, labels, \n",
    "    stratify=labels, \n",
    "    test_size=0.3, \n",
    "    random_state=42\n",
    ")\n",
    "\n",
    "X_val, X_test, y_val, y_test = train_test_split(\n",
    "    X_temp, y_temp, \n",
    "    stratify=y_temp, \n",
    "    test_size=0.5, \n",
    "    random_state=42\n",
    ")\n",
    "\n",
    "\n",
    "train_dataset = ActionDataset(X_train, y_train, transform=None)\n",
    "val_dataset = ActionDataset(X_val, y_val, transform=None)\n",
    "test_dataset = ActionDataset(X_test, y_test, transform=None)\n",
    "\n",
    "# Create sample weights based on training label frequency\n",
    "class_sample_count = np.bincount(y_train)\n",
    "class_weights = 1. / class_sample_count\n",
    "sample_weights = class_weights[y_train]\n",
    "\n",
    "sampler = WeightedRandomSampler(sample_weights, len(sample_weights), replacement=True)\n",
    "\n",
    "# Dataloaders\n",
    "train_loader = DataLoader(train_dataset, batch_size=32, sampler=sampler)\n",
    "val_loader = DataLoader(val_dataset, batch_size=32, shuffle=False)\n",
    "test_loader = DataLoader(test_dataset, batch_size=32, shuffle=False)"
   ]
  },
  {
   "cell_type": "code",
   "execution_count": null,
   "id": "204eee5a",
   "metadata": {},
   "outputs": [],
   "source": []
  },
  {
   "cell_type": "markdown",
   "id": "35270c99",
   "metadata": {},
   "source": [
    "## TODO\n",
    "\n",
    "1. Can't load all images at once, so implement loading of images in batches.\n",
    "2. AutoEncoder training\n"
   ]
  },
  {
   "cell_type": "markdown",
   "id": "380085ce",
   "metadata": {},
   "source": []
  }
 ],
 "metadata": {
  "kernelspec": {
   "display_name": "uni",
   "language": "python",
   "name": "python3"
  },
  "language_info": {
   "codemirror_mode": {
    "name": "ipython",
    "version": 3
   },
   "file_extension": ".py",
   "mimetype": "text/x-python",
   "name": "python",
   "nbconvert_exporter": "python",
   "pygments_lexer": "ipython3",
   "version": "3.13.2"
  }
 },
 "nbformat": 4,
 "nbformat_minor": 5
}
