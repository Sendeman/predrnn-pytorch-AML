{
 "cells": [
  {
   "cell_type": "markdown",
   "id": "d031da6e",
   "metadata": {},
   "source": [
    "# 1. Handling imports"
   ]
  },
  {
   "cell_type": "code",
   "execution_count": 6,
   "id": "2c9c6ef7",
   "metadata": {},
   "outputs": [
    {
     "name": "stdout",
     "output_type": "stream",
     "text": [
      "Torch device: cuda\n"
     ]
    }
   ],
   "source": [
    "import sys\n",
    "import os\n",
    "\n",
    "# Add 'predrnn' to sys.path so imports like 'from core...' work\n",
    "project_root = os.path.abspath(\"predrnn\")  # or use full path if needed\n",
    "if project_root not in sys.path:\n",
    "    sys.path.insert(0, project_root)\n",
    "\n",
    "\n",
    "\n",
    "# PyTorch (related) imports\n",
    "import torch\n",
    "import torch.nn as nn\n",
    "from torch.utils.data import DataLoader\n",
    "from torchvision import transforms\n",
    "from tqdm import trange\n",
    "device = torch.device(\"cuda\" if torch.cuda.is_available() else 'mps' if torch.mps.is_available() else \"cpu\")\n",
    "print(\"Torch device:\", device) # Quick check to see if we're using GPU or CPU.\n",
    "\n",
    "\n",
    "import numpy as np\n",
    "import matplotlib.pyplot as plt\n",
    "import pandas as pd\n",
    "\n",
    "\n",
    "from skimage.metrics import structural_similarity as ssim\n",
    "from sklearn.model_selection import train_test_split\n",
    "from pathlib import Path\n",
    "from IPython.display import clear_output\n",
    "\n",
    "# Custom imports\n",
    "import dataset.download_and_preprocess as dl\n",
    "from dataset.dataloader import KTHDataset\n",
    "from autoencoder.autoencoder import AutoencoderModel, architectures\n",
    "\n",
    "# predrnn imports\n",
    "from predrnn.core.models.predrnn_v2 import RNN as predrnn\n",
    "from predrnn.configparser import build_predrnn_args\n",
    "\n",
    "# for reproducibility\n",
    "np.random.seed(42)\n"
   ]
  },
  {
   "cell_type": "markdown",
   "id": "4119b0d5",
   "metadata": {},
   "source": [
    "# 2. handling file paths"
   ]
  },
  {
   "cell_type": "code",
   "execution_count": 7,
   "id": "fa57922d",
   "metadata": {},
   "outputs": [],
   "source": [
    "autoencoder_root_path = Path(\"autoencoder\") / \"models\"\n",
    "predrnn_root_path = Path(\"predrnn\") / \"checkpoints\"\n",
    "predrnn_base_data_dir = Path(\"dataset\") / 'encoded' "
   ]
  },
  {
   "cell_type": "markdown",
   "id": "c7605b65",
   "metadata": {},
   "source": [
    "# 3. Loading the trained models\n",
    "## A. Autoencoders"
   ]
  },
  {
   "cell_type": "code",
   "execution_count": 8,
   "id": "fb2a516b",
   "metadata": {},
   "outputs": [],
   "source": [
    "# 64x64 autencoder\n",
    "autencoder_64 =  AutoencoderModel(epochs=200, encoder=architectures[1][\"encoder\"], decoder=architectures[1][\"decoder\"]).to(device)\n",
    "autencoder_64.load(autoencoder_root_path / \"model_trial_2_1.pt\", device=device)\n",
    "autencoder_64.eval()\n",
    "\n",
    "# 32x32 autencoder\n",
    "autoencoder_32 =  AutoencoderModel(epochs=200, encoder=architectures[2][\"encoder\"], decoder=architectures[2][\"decoder\"]).to(device)\n",
    "autoencoder_32.load(autoencoder_root_path / \"model_trial_1_2.pt\", device=device)\n",
    "autoencoder_32.eval()\n",
    "\n",
    "# 16x16 autencoder\n",
    "autoencoder_16 =  AutoencoderModel(epochs=200, encoder=architectures[3][\"encoder\"], decoder=architectures[3][\"decoder\"]).to(device)\n",
    "autoencoder_16.load(autoencoder_root_path / \"model_trial_0_3.pt\", device=device)\n",
    "autoencoder_16.eval();"
   ]
  },
  {
   "cell_type": "markdown",
   "id": "1df3e438",
   "metadata": {},
   "source": [
    "## B. PredRNN"
   ]
  },
  {
   "cell_type": "code",
   "execution_count": 11,
   "id": "de93ddcd",
   "metadata": {},
   "outputs": [],
   "source": [
    "# 128x128 (native) predRNN model\n",
    "trained_model = torch.load(predrnn_root_path / \"kth_predrnn_vanilla\" / \"model.ckpt-400\")\n",
    "config = build_predrnn_args(img_width=128, \n",
    "                            data_dir=str((predrnn_base_data_dir / '64').resolve()), \n",
    "                            result_checkpoint_dir='kth_predrnn_vanilla')\n",
    "num_hidden = [int(x) for x in config.num_hidden.split(',')]\n",
    "num_layers = len(num_hidden)\n",
    "predrnn_native = predrnn(num_layers, num_hidden, config)\n",
    "predrnn_native.load_state_dict(trained_model['net_param'])\n",
    "\n",
    "\n",
    "\n",
    "# 64x64 PredRNN\n",
    "trained_model = torch.load(predrnn_root_path / \"kth_predrnn_64\" / \"model.ckpt-400\")\n",
    "config = build_predrnn_args(img_width=64, \n",
    "                            data_dir=str((predrnn_base_data_dir / '64').resolve()), \n",
    "                            result_checkpoint_dir='kth_predrnn_64')\n",
    "num_hidden = [int(x) for x in config.num_hidden.split(',')]\n",
    "num_layers = len(num_hidden)\n",
    "predrnn_64 = predrnn(num_layers, num_hidden, config)\n",
    "predrnn_64.load_state_dict(trained_model['net_param'])\n",
    "\n",
    "\n",
    "# 32x32 PredRNN\n",
    "trained_model = torch.load(predrnn_root_path / \"kth_predrnn_32\" / \"model.ckpt-400\")\n",
    "config = build_predrnn_args(img_width=32, \n",
    "                            data_dir=str((predrnn_base_data_dir / '32').resolve()), \n",
    "                            result_checkpoint_dir='kth_predrnn_32')\n",
    "num_hidden = [int(x) for x in config.num_hidden.split(',')]\n",
    "num_layers = len(num_hidden)\n",
    "predrnn_32 = predrnn(num_layers, num_hidden, config)\n",
    "predrnn_32.load_state_dict(trained_model['net_param'])\n",
    "\n",
    "# 16x16 PredRNN\n",
    "trained_model = torch.load(predrnn_root_path / \"kth_predrnn_16\" / \"model.ckpt-400\")\n",
    "config = build_predrnn_args(img_width=16, \n",
    "                            data_dir=str((predrnn_base_data_dir / '16').resolve()), \n",
    "                            result_checkpoint_dir='kth_predrnn_16')\n",
    "num_hidden = [int(x) for x in config.num_hidden.split(',')]\n",
    "num_layers = len(num_hidden)\n",
    "predrnn_16 = predrnn(num_layers, num_hidden, config)\n",
    "predrnn_16.load_state_dict(trained_model['net_param']);"
   ]
  }
 ],
 "metadata": {
  "kernelspec": {
   "display_name": "uni",
   "language": "python",
   "name": "python3"
  },
  "language_info": {
   "codemirror_mode": {
    "name": "ipython",
    "version": 3
   },
   "file_extension": ".py",
   "mimetype": "text/x-python",
   "name": "python",
   "nbconvert_exporter": "python",
   "pygments_lexer": "ipython3",
   "version": "3.13.2"
  }
 },
 "nbformat": 4,
 "nbformat_minor": 5
}
